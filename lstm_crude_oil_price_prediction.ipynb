{
 "cells": [
  {
   "cell_type": "markdown",
   "metadata": {},
   "source": [
    "# Use Case\n",
    "\n",
    "In the financial markets investors are chasing higher returns, the funds specialized in this field are the quantitative hedge funds. In the Quantitative investing landscape there is a myriad of strategies, the one which is the focus of this report is the Neural Network model, with the type of model being a Recurring Neural Network (RNN). Under the RNN scope there are the LSTM algorithms that have recently been incorporated in various oil predicting algorithms and strategies because of their effectiveness compared to other neural algorithms.  \n",
    "Making predictions in oil prices are in fact solving a time series prediction problem. For any algorithms to be able to have a reasonable effectiveness in predicting time series there must be a pattern in the time series, for example there can be a seasonality pattern in the time series or other forms of anomalies. If the time series data is completely random, there can not be a prediction made.\n",
    "In this project, given a historical oil price, we whould like to predict to future oil price in 1 day/week/month that is the root question for investor. \n"
   ]
  },
  {
   "cell_type": "markdown",
   "metadata": {},
   "source": [
    "Data Set\n",
    "-----------\n",
    "U.S. Energy Information Administration, Crude Oil Prices: Brent - Europe [DCOILBRENTEU], retrieved from FRED, Federal Reserve Bank of St. Louis; https://fred.stlouisfed.org/series/DCOILBRENTEU, January 10, 2018.\n",
    "\n",
    "Data is daily, 10 years period from 2010/03/23 to 2020/03/23"
   ]
  },
  {
   "cell_type": "code",
   "execution_count": 4,
   "metadata": {},
   "outputs": [],
   "source": [
    "import pandas as pd\n",
    "\n",
    "df_data_1 = pd.read_csv(\"E:/Coursera/IBM Advan DS/Capstone project/DCOILBRENTEU_10y.csv\")"
   ]
  },
  {
   "cell_type": "markdown",
   "metadata": {},
   "source": [
    "# Data Quality Assessment\n",
    "# Data Cleasing"
   ]
  },
  {
   "cell_type": "code",
   "execution_count": 6,
   "metadata": {},
   "outputs": [
    {
     "name": "stdout",
     "output_type": "stream",
     "text": [
      "(2535, 2)\n"
     ]
    }
   ],
   "source": [
    "df_data_1 = df_data_1[df_data_1.DCOILBRENTEU != \".\"]\n",
    "print(df_data_1.shape)"
   ]
  },
  {
   "cell_type": "code",
   "execution_count": 8,
   "metadata": {},
   "outputs": [
    {
     "data": {
      "text/html": [
       "<div>\n",
       "<style scoped>\n",
       "    .dataframe tbody tr th:only-of-type {\n",
       "        vertical-align: middle;\n",
       "    }\n",
       "\n",
       "    .dataframe tbody tr th {\n",
       "        vertical-align: top;\n",
       "    }\n",
       "\n",
       "    .dataframe thead th {\n",
       "        text-align: right;\n",
       "    }\n",
       "</style>\n",
       "<table border=\"1\" class=\"dataframe\">\n",
       "  <thead>\n",
       "    <tr style=\"text-align: right;\">\n",
       "      <th></th>\n",
       "      <th>DATE</th>\n",
       "      <th>DCOILBRENTEU</th>\n",
       "    </tr>\n",
       "  </thead>\n",
       "  <tbody>\n",
       "    <tr>\n",
       "      <th>0</th>\n",
       "      <td>2010-03-23</td>\n",
       "      <td>79.17</td>\n",
       "    </tr>\n",
       "    <tr>\n",
       "      <th>1</th>\n",
       "      <td>2010-03-24</td>\n",
       "      <td>78.03</td>\n",
       "    </tr>\n",
       "    <tr>\n",
       "      <th>2</th>\n",
       "      <td>2010-03-25</td>\n",
       "      <td>78.64</td>\n",
       "    </tr>\n",
       "    <tr>\n",
       "      <th>3</th>\n",
       "      <td>2010-03-26</td>\n",
       "      <td>77.98</td>\n",
       "    </tr>\n",
       "    <tr>\n",
       "      <th>4</th>\n",
       "      <td>2010-03-29</td>\n",
       "      <td>79.89</td>\n",
       "    </tr>\n",
       "  </tbody>\n",
       "</table>\n",
       "</div>"
      ],
      "text/plain": [
       "         DATE DCOILBRENTEU\n",
       "0  2010-03-23        79.17\n",
       "1  2010-03-24        78.03\n",
       "2  2010-03-25        78.64\n",
       "3  2010-03-26        77.98\n",
       "4  2010-03-29        79.89"
      ]
     },
     "execution_count": 8,
     "metadata": {},
     "output_type": "execute_result"
    }
   ],
   "source": [
    "df_data_1.head(5)"
   ]
  },
  {
   "cell_type": "markdown",
   "metadata": {},
   "source": [
    "# Data Exploration and Visualization"
   ]
  },
  {
   "cell_type": "markdown",
   "metadata": {},
   "source": [
    "# Histograms<a id=\"8\"></a>\n",
    "\n",
    "A histogram is a way of representing the *frequency* distribution of numeric dataset. The way it works is it partitions the x-axis into *bins*, assigns each data point in our dataset to a bin, and then counts the number of data points that have been assigned to each bin. So the y-axis is the frequency or the number of data points in each bin. Note that we can change the bin size and usually one needs to tweak it so that the distribution is displayed nicely."
   ]
  },
  {
   "cell_type": "code",
   "execution_count": 41,
   "metadata": {},
   "outputs": [
    {
     "data": {
      "text/plain": [
       "DATE             object\n",
       "DCOILBRENTEU    float64\n",
       "dtype: object"
      ]
     },
     "execution_count": 41,
     "metadata": {},
     "output_type": "execute_result"
    }
   ],
   "source": [
    "# np.histogram returns 2 values\n",
    "import numpy as np\n",
    "df_data_plot=df_data_1\n",
    "df_data_plot['DCOILBRENTEU'] = pd.to_numeric(df_data_plot['DCOILBRENTEU'])\n",
    "\n",
    "df_data_plot.dtypes\n"
   ]
  },
  {
   "cell_type": "code",
   "execution_count": 42,
   "metadata": {},
   "outputs": [
    {
     "name": "stdout",
     "output_type": "stream",
     "text": [
      "[ 42 119 421 450 305 215  77 237 576  93]\n",
      "[ 23.3    33.784  44.268  54.752  65.236  75.72   86.204  96.688 107.172\n",
      " 117.656 128.14 ]\n"
     ]
    }
   ],
   "source": [
    "count, bin_edges = np.histogram(df_data_plot['DCOILBRENTEU'])\n",
    "\n",
    "print(count) # frequency count\n",
    "print(bin_edges) # bin ranges, default = 10 bins"
   ]
  },
  {
   "cell_type": "code",
   "execution_count": 45,
   "metadata": {},
   "outputs": [
    {
     "data": {
      "image/png": "[encoded data removed]",
      "text/plain": [
       "<Figure size 576x360 with 1 Axes>"
      ]
     },
     "metadata": {
      "needs_background": "light"
     },
     "output_type": "display_data"
    }
   ],
   "source": [
    "df_data_plot['DCOILBRENTEU'].plot(kind='hist', figsize=(8, 5))\n",
    "\n",
    "plt.title('Histogram of Oil Price during 2010 to 2020') # add a title to the histogram\n",
    "plt.ylabel('Frequency') # add y-label\n",
    "plt.xlabel('Price') # add x-label\n",
    "\n",
    "plt.show()"
   ]
  },
  {
   "cell_type": "markdown",
   "metadata": {},
   "source": [
    "# Box Plots \n",
    "A box plot is a way of statistically representing the distribution of the data through five main dimensions:\n",
    "\n",
    "Minimun: Smallest number in the dataset.\n",
    "First quartile: Middle number between the minimum and the median.\n",
    "Second quartile (Median): Middle number of the (sorted) dataset.\n",
    "Third quartile: Middle number between median and maximum.\n",
    "Maximum: Highest number in the dataset."
   ]
  },
  {
   "cell_type": "code",
   "execution_count": 46,
   "metadata": {},
   "outputs": [
    {
     "data": {
      "image/png": "[encoded data removed]",
      "text/plain": [
       "<Figure size 576x432 with 1 Axes>"
      ]
     },
     "metadata": {
      "needs_background": "light"
     },
     "output_type": "display_data"
    }
   ],
   "source": [
    "df_data_plot['DCOILBRENTEU'].plot(kind='box', figsize=(8, 6))\n",
    "\n",
    "plt.title('Box plot of Oil Price from 2010 - 2020')\n",
    "plt.ylabel('Value ')\n",
    "\n",
    "plt.show()"
   ]
  },
  {
   "cell_type": "markdown",
   "metadata": {},
   "source": [
    "We can immediately make a few key observations from the plot above:\n",
    "1. The minimum number of immigrants is around 23 (min), maximum number is around 130 (max), and  median number of immigrants is around 73 (median).\n",
    "2. 25% of the price of ~56 or fewer (First quartile).\n",
    "3. 75% of the price of ~107 or fewer (Third quartile).\n",
    "4. There is no outlier since our data source is reliable\n",
    "\n",
    "We can view the actual numbers by calling the `describe()` method on the dataframe."
   ]
  },
  {
   "cell_type": "code",
   "execution_count": 47,
   "metadata": {},
   "outputs": [
    {
     "data": {
      "text/plain": [
       "count    2535.000000\n",
       "mean       78.837254\n",
       "std        26.402447\n",
       "min        23.300000\n",
       "25%        55.945000\n",
       "50%        73.560000\n",
       "75%       107.820000\n",
       "max       128.140000\n",
       "Name: DCOILBRENTEU, dtype: float64"
      ]
     },
     "execution_count": 47,
     "metadata": {},
     "output_type": "execute_result"
    }
   ],
   "source": [
    "df_data_plot['DCOILBRENTEU'].describe(include=\"all\")"
   ]
  },
  {
   "cell_type": "markdown",
   "metadata": {},
   "source": [
    "Data visualization over time"
   ]
  },
  {
   "cell_type": "code",
   "execution_count": 10,
   "metadata": {},
   "outputs": [
    {
     "data": {
      "image/png": "[encoded data removed]",
      "text/plain": [
       "<Figure size 432x288 with 1 Axes>"
      ]
     },
     "metadata": {
      "needs_background": "light"
     },
     "output_type": "display_data"
    }
   ],
   "source": [
    "import matplotlib.pyplot as plt\n",
    "df_data_1_plot = df_data_1.iloc[:,1:2].values.astype(float)\n",
    "# Visualising the Data\n",
    "plt.plot(df_data_1_plot, color = 'red', label = 'Crude Oil Prices')\n",
    "plt.title('Crude Oil Prices Historical Data')\n",
    "plt.xlabel('Time (Days)')\n",
    "plt.ylabel('Crude Oil Prices')\n",
    "plt.legend()\n",
    "plt.show()"
   ]
  },
  {
   "cell_type": "markdown",
   "metadata": {},
   "source": [
    "# Which Model to Use\n",
    "There are several Deep learning model for time sereis prediction such as Convolutional Neural Networks (CNNs), Deep Belief Networks (DBNs), Long-Short Term Memory (LSTM). LSTM is pretty good at extracting patterns in input feature space, where the input data spans over long sequences. Given the gated architecture of LSTM's that has this ability to manipulate its memory state, they are ideal for such problems. We also choose LSTM for easy implementation. "
   ]
  },
  {
   "cell_type": "markdown",
   "metadata": {},
   "source": [
    "Stateful vs. Stateless LSTM\n",
    "--------------------------\n",
    "\n",
    "1. **Stateless**: LSTM updates parameters on **batch 1** and then initiates cell states (meaning - memory, usually with zeros) for **batch 2** \n",
    "2. **Stateful**: it uses batch 1 last output cell sates as initial states for batch 2.\n",
    "\n",
    "When to use which?\n",
    "----------------\n",
    "\n",
    "- When  sequences in batches are related to each other (e.g. prices of one commodity), we should better use **stateful** mode\n",
    "- Else, when one sequence represents a complete sentence, we  should go with **stateless** mode\n",
    "\n",
    "\n"
   ]
  },
  {
   "cell_type": "markdown",
   "metadata": {},
   "source": [
    "Batch-size: which batch-size to choose?\n",
    "------------------------------------\n",
    "Batch size impacts to the prediction accuracy. We have tryied several batch size, then \n",
    "we select a batch size of 64.\n"
   ]
  },
  {
   "cell_type": "code",
   "execution_count": 21,
   "metadata": {},
   "outputs": [
    {
     "name": "stderr",
     "output_type": "stream",
     "text": [
      "Using TensorFlow backend.\n"
     ]
    }
   ],
   "source": [
    "#import packages\n",
    "import numpy as np\n",
    "import pandas as pd\n",
    "from keras.preprocessing import sequence\n",
    "from keras.models import load_model"
   ]
  },
  {
   "cell_type": "code",
   "execution_count": 22,
   "metadata": {},
   "outputs": [],
   "source": [
    "# defining the batch size and number of epochs\n",
    "batch_size = 64\n",
    "epochs = 120\n",
    "timesteps = 30"
   ]
  },
  {
   "cell_type": "markdown",
   "metadata": {},
   "source": [
    "Batch-size and trainings-set size\n",
    "-------------------------------\n",
    "\n",
    "With **stateful LSTMs** the trainings-set size must be divisible without remainder by the batch-size (modulo = 0)"
   ]
  },
  {
   "cell_type": "code",
   "execution_count": 23,
   "metadata": {},
   "outputs": [
    {
     "name": "stdout",
     "output_type": "stream",
     "text": [
      "2535\n",
      "2281.5\n"
     ]
    }
   ],
   "source": [
    "length = len(df_data_1)\n",
    "print(length)\n",
    "length *= 1 - 0.1\n",
    "print(length)\n"
   ]
  },
  {
   "cell_type": "code",
   "execution_count": 25,
   "metadata": {},
   "outputs": [
    {
     "data": {
      "text/plain": [
       "41.5"
      ]
     },
     "execution_count": 25,
     "metadata": {},
     "output_type": "execute_result"
    }
   ],
   "source": [
    "2281.5%64.0"
   ]
  },
  {
   "cell_type": "code",
   "execution_count": 26,
   "metadata": {},
   "outputs": [
    {
     "data": {
      "text/plain": [
       "0.0"
      ]
     },
     "execution_count": 26,
     "metadata": {},
     "output_type": "execute_result"
    }
   ],
   "source": [
    "1792.0%64.0"
   ]
  },
  {
   "cell_type": "code",
   "execution_count": 27,
   "metadata": {},
   "outputs": [],
   "source": [
    "def get_train_length(dataset, batch_size, test_percent):\n",
    "    # substract test_percent to be excluded from training, reserved for testset\n",
    "    length = len(dataset)\n",
    "    length *= 1 - test_percent\n",
    "    train_length_values = []\n",
    "    for x in range(int(length) - 100,int(length)): \n",
    "        modulo=x%batch_size\n",
    "        if (modulo == 0):\n",
    "            train_length_values.append(x)\n",
    "            print(x)\n",
    "    return (max(train_length_values))"
   ]
  },
  {
   "cell_type": "code",
   "execution_count": 28,
   "metadata": {},
   "outputs": [
    {
     "name": "stdout",
     "output_type": "stream",
     "text": [
      "2240\n",
      "2240\n"
     ]
    }
   ],
   "source": [
    "length = get_train_length(df_data_1, batch_size, 0.1)\n",
    "print(length)"
   ]
  },
  {
   "cell_type": "code",
   "execution_count": 29,
   "metadata": {},
   "outputs": [
    {
     "data": {
      "text/plain": [
       "(2300, 1)"
      ]
     },
     "execution_count": 29,
     "metadata": {},
     "output_type": "execute_result"
    }
   ],
   "source": [
    "#Adding timesteps * 2\n",
    "upper_train = length + timesteps*2\n",
    "df_data_1_train = df_data_1[0:upper_train]\n",
    "training_set = df_data_1_train.iloc[:,1:2].values\n",
    "training_set.shape"
   ]
  },
  {
   "cell_type": "markdown",
   "metadata": {},
   "source": [
    "# Feature Engineering: Scaling\n",
    "Because the data for the sequence prediction problem probably needs to be scaled when training a neural network, such as a Long Short-Term Memory recurrent neural network.\n",
    "We will scale between 0 and 1."
   ]
  },
  {
   "cell_type": "code",
   "execution_count": 30,
   "metadata": {},
   "outputs": [
    {
     "data": {
      "text/plain": [
       "(2300, 1)"
      ]
     },
     "execution_count": 30,
     "metadata": {},
     "output_type": "execute_result"
    }
   ],
   "source": [
    "\n",
    "from sklearn.preprocessing import MinMaxScaler\n",
    "sc = MinMaxScaler(feature_range = (0, 1))\n",
    "training_set_scaled = sc.fit_transform(np.float64(training_set))\n",
    "training_set_scaled.shape"
   ]
  },
  {
   "cell_type": "code",
   "execution_count": 31,
   "metadata": {},
   "outputs": [
    {
     "name": "stdout",
     "output_type": "stream",
     "text": [
      "2270\n",
      "2240\n",
      "2240\n",
      "[array([0.52051307, 0.50935083, 0.51532361, 0.50886126, 0.52756291,\n",
      "       0.52335259, 0.5322628 , 0.55439146, 0.57250563, 0.57808675,\n",
      "       0.57260354, 0.55439146, 0.55576226, 0.57965338, 0.56232253,\n",
      "       0.58552825, 0.59620092, 0.57573681, 0.55889553, 0.57495349,\n",
      "       0.57319103, 0.57348477, 0.58826985, 0.59443846, 0.58337413,\n",
      "       0.57358269, 0.59541761, 0.589249  , 0.60785274, 0.58141584]), array([0.50935083, 0.51532361, 0.50886126, 0.52756291, 0.52335259,\n",
      "       0.5322628 , 0.55439146, 0.57250563, 0.57808675, 0.57260354,\n",
      "       0.55439146, 0.55576226, 0.57965338, 0.56232253, 0.58552825,\n",
      "       0.59620092, 0.57573681, 0.55889553, 0.57495349, 0.57319103,\n",
      "       0.57348477, 0.58826985, 0.59443846, 0.58337413, 0.57358269,\n",
      "       0.59541761, 0.589249  , 0.60785274, 0.58141584, 0.5512582 ])]\n",
      "(2240, 30)\n",
      "[array([0.5512582 , 0.53069617, 0.49417409, 0.5098404 , 0.51884853,\n",
      "       0.51591109, 0.52286302, 0.49368452, 0.46861843, 0.48085773,\n",
      "       0.44893763, 0.42641731, 0.43513169, 0.4270048 , 0.40311368,\n",
      "       0.4365025 , 0.46558308, 0.46009987, 0.46088319, 0.45794576,\n",
      "       0.46127485, 0.4487418 , 0.44139822, 0.44472731, 0.46675805,\n",
      "       0.47312249, 0.46284148, 0.48075982, 0.48252228, 0.49064917]), array([0.53069617, 0.49417409, 0.5098404 , 0.51884853, 0.51591109,\n",
      "       0.52286302, 0.49368452, 0.46861843, 0.48085773, 0.44893763,\n",
      "       0.42641731, 0.43513169, 0.4270048 , 0.40311368, 0.4365025 ,\n",
      "       0.46558308, 0.46009987, 0.46088319, 0.45794576, 0.46127485,\n",
      "       0.4487418 , 0.44139822, 0.44472731, 0.46675805, 0.47312249,\n",
      "       0.46284148, 0.48075982, 0.48252228, 0.49064917, 0.50435719])]\n",
      "(2240, 30)\n"
     ]
    }
   ],
   "source": [
    "X_train = []\n",
    "y_train = []\n",
    "\n",
    "# Creating a data structure with n timesteps\n",
    "\n",
    "print(length + timesteps)\n",
    "for i in range(timesteps, length + timesteps): \n",
    "    X_train.append(training_set_scaled[i-timesteps:i,0])\n",
    "    y_train.append(training_set_scaled[i:i+timesteps,0])\n",
    "\n",
    "print(len(X_train))\n",
    "print(len(y_train))\n",
    "#create X_train matrix\n",
    "#30 items per array (timestep) \n",
    "print(X_train[0:2])\n",
    "print(np.array(X_train).shape)\n",
    "#create Y_train matrix\n",
    "#30 items per array (timestep) \n",
    "print(y_train[0:2])\n",
    "print(np.array(y_train).shape)"
   ]
  },
  {
   "cell_type": "code",
   "execution_count": 48,
   "metadata": {},
   "outputs": [
    {
     "name": "stdout",
     "output_type": "stream",
     "text": [
      "(2240, 30, 1)\n",
      "(2240, 30, 1)\n"
     ]
    }
   ],
   "source": [
    "# Reshaping\n",
    "X_train, y_train = np.array(X_train), np.array(y_train)\n",
    "X_train = np.reshape(X_train, (X_train.shape[0], X_train.shape[1], 1))\n",
    "y_train = np.reshape(y_train, (y_train.shape[0], y_train.shape[1], 1))\n",
    "print(X_train.shape)\n",
    "print(y_train.shape)\n"
   ]
  },
  {
   "cell_type": "markdown",
   "metadata": {},
   "source": [
    "# Which Framework to Use\n",
    "Because Keras easy to learn and easy to use, our data is small and simple, thus we choose Kera to implement LSTM."
   ]
  },
  {
   "cell_type": "code",
   "execution_count": 60,
   "metadata": {},
   "outputs": [],
   "source": [
    "# Building the LSTM\n",
    "# Importing the Keras libraries and packages\n",
    "\n",
    "from keras.layers import Dense\n",
    "from keras.layers import Input, LSTM\n",
    "from keras.models import Model\n",
    "import h5py"
   ]
  },
  {
   "cell_type": "markdown",
   "metadata": {},
   "source": [
    "# Model Definition with MAE Loss-Function\n",
    " Initialising the LSTM Model with MAE Loss-Function\n",
    " \n",
    " Using Functional API"
   ]
  },
  {
   "cell_type": "code",
   "execution_count": 61,
   "metadata": {},
   "outputs": [
    {
     "name": "stdout",
     "output_type": "stream",
     "text": [
      "_________________________________________________________________\n",
      "Layer (type)                 Output Shape              Param #   \n",
      "=================================================================\n",
      "input_3 (InputLayer)         (64, 30, 1)               0         \n",
      "_________________________________________________________________\n",
      "lstm_5 (LSTM)                (64, 30, 10)              480       \n",
      "_________________________________________________________________\n",
      "lstm_6 (LSTM)                (64, 30, 10)              840       \n",
      "_________________________________________________________________\n",
      "dense_3 (Dense)              (64, 30, 1)               11        \n",
      "=================================================================\n",
      "Total params: 1,331\n",
      "Trainable params: 1,331\n",
      "Non-trainable params: 0\n",
      "_________________________________________________________________\n"
     ]
    }
   ],
   "source": [
    "\n",
    "\n",
    "inputs_1_mae = Input(batch_shape=(batch_size,timesteps,1))\n",
    "#each layer is the input of the next layer\n",
    "lstm_1_mae = LSTM(10, stateful=True, return_sequences=True)(inputs_1_mae)\n",
    "lstm_2_mae = LSTM(10, stateful=True, return_sequences=True)(lstm_1_mae)\n",
    "\n",
    "output_1_mae = Dense(units = 1)(lstm_2_mae)\n",
    "\n",
    "regressor_mae = Model(inputs=inputs_1_mae, outputs = output_1_mae)\n",
    "\n",
    "#adam is fast starting off and then gets slower and more precise\n",
    "#mae -> mean absolute error loss function\n",
    "regressor_mae.compile(optimizer='adam', loss = 'mae')\n",
    "regressor_mae.summary()"
   ]
  },
  {
   "cell_type": "code",
   "execution_count": 62,
   "metadata": {},
   "outputs": [],
   "source": [
    "\n",
    "\n",
    "from keras import backend as K\n",
    "\n",
    "K.set_session(K.tf.Session(config=K.tf.ConfigProto(intra_op_parallelism_threads=1, inter_op_parallelism_threads=1)))\n"
   ]
  },
  {
   "cell_type": "code",
   "execution_count": 63,
   "metadata": {},
   "outputs": [
    {
     "name": "stdout",
     "output_type": "stream",
     "text": [
      "480\n"
     ]
    }
   ],
   "source": [
    "# 1st LSTM Layer\n",
    "parameters = 4 * 10 * (1 + 10 + 1)\n",
    "print(parameters)"
   ]
  },
  {
   "cell_type": "code",
   "execution_count": 64,
   "metadata": {},
   "outputs": [
    {
     "name": "stdout",
     "output_type": "stream",
     "text": [
      "840\n"
     ]
    }
   ],
   "source": [
    "parameters = 4 * 10 * (10 + 10 + 1)\n",
    "print(parameters)"
   ]
  },
  {
   "cell_type": "markdown",
   "metadata": {},
   "source": [
    "# Model Training"
   ]
  },
  {
   "cell_type": "code",
   "execution_count": 65,
   "metadata": {},
   "outputs": [
    {
     "name": "stdout",
     "output_type": "stream",
     "text": [
      "Epoch: 0\n",
      "Epoch 1/1\n",
      "2240/2240 [==============================] - 2s 741us/step - loss: 0.1219\n",
      "Epoch: 1\n",
      "Epoch 1/1\n",
      "2240/2240 [==============================] - 1s 277us/step - loss: 0.0971\n",
      "Epoch: 2\n",
      "Epoch 1/1\n",
      "2240/2240 [==============================] - 1s 285us/step - loss: 0.0948\n",
      "Epoch: 3\n",
      "Epoch 1/1\n",
      "2240/2240 [==============================] - 1s 283us/step - loss: 0.0922\n",
      "Epoch: 4\n",
      "Epoch 1/1\n",
      "2240/2240 [==============================] - 1s 290us/step - loss: 0.0906\n",
      "Epoch: 5\n",
      "Epoch 1/1\n",
      "2240/2240 [==============================] - 1s 285us/step - loss: 0.0894\n",
      "Epoch: 6\n",
      "Epoch 1/1\n",
      "2240/2240 [==============================] - 1s 281us/step - loss: 0.0875\n",
      "Epoch: 7\n",
      "Epoch 1/1\n",
      "2240/2240 [==============================] - 1s 290us/step - loss: 0.0863\n",
      "Epoch: 8\n",
      "Epoch 1/1\n",
      "2240/2240 [==============================] - 1s 285us/step - loss: 0.0856\n",
      "Epoch: 9\n",
      "Epoch 1/1\n",
      "2240/2240 [==============================] - 1s 288us/step - loss: 0.0847\n",
      "Epoch: 10\n",
      "Epoch 1/1\n",
      "2240/2240 [==============================] - 1s 275us/step - loss: 0.0839\n",
      "Epoch: 11\n",
      "Epoch 1/1\n",
      "2240/2240 [==============================] - 1s 280us/step - loss: 0.0833\n",
      "Epoch: 12\n",
      "Epoch 1/1\n",
      "2240/2240 [==============================] - 1s 277us/step - loss: 0.0826\n",
      "Epoch: 13\n",
      "Epoch 1/1\n",
      "2240/2240 [==============================] - 1s 281us/step - loss: 0.0818\n",
      "Epoch: 14\n",
      "Epoch 1/1\n",
      "2240/2240 [==============================] - 1s 278us/step - loss: 0.0814\n",
      "Epoch: 15\n",
      "Epoch 1/1\n",
      "2240/2240 [==============================] - 1s 287us/step - loss: 0.0809\n",
      "Epoch: 16\n",
      "Epoch 1/1\n",
      "2240/2240 [==============================] - 1s 283us/step - loss: 0.0806\n",
      "Epoch: 17\n",
      "Epoch 1/1\n",
      "2240/2240 [==============================] - 1s 285us/step - loss: 0.0802\n",
      "Epoch: 18\n",
      "Epoch 1/1\n",
      "2240/2240 [==============================] - 1s 276us/step - loss: 0.0798\n",
      "Epoch: 19\n",
      "Epoch 1/1\n",
      "2240/2240 [==============================] - 1s 278us/step - loss: 0.0794\n",
      "Epoch: 20\n",
      "Epoch 1/1\n",
      "2240/2240 [==============================] - 1s 279us/step - loss: 0.0792\n",
      "Epoch: 21\n",
      "Epoch 1/1\n",
      "2240/2240 [==============================] - 1s 279us/step - loss: 0.0788\n",
      "Epoch: 22\n",
      "Epoch 1/1\n",
      "2240/2240 [==============================] - 1s 281us/step - loss: 0.0785\n",
      "Epoch: 23\n",
      "Epoch 1/1\n",
      "2240/2240 [==============================] - 1s 283us/step - loss: 0.0782\n",
      "Epoch: 24\n",
      "Epoch 1/1\n",
      "2240/2240 [==============================] - 1s 289us/step - loss: 0.0779\n",
      "Epoch: 25\n",
      "Epoch 1/1\n",
      "2240/2240 [==============================] - 1s 289us/step - loss: 0.0776\n",
      "Epoch: 26\n",
      "Epoch 1/1\n",
      "2240/2240 [==============================] - 1s 293us/step - loss: 0.0775\n",
      "Epoch: 27\n",
      "Epoch 1/1\n",
      "2240/2240 [==============================] - 1s 296us/step - loss: 0.0772\n",
      "Epoch: 28\n",
      "Epoch 1/1\n",
      "2240/2240 [==============================] - 1s 308us/step - loss: 0.0771\n",
      "Epoch: 29\n",
      "Epoch 1/1\n",
      "2240/2240 [==============================] - 1s 291us/step - loss: 0.0768\n",
      "Epoch: 30\n",
      "Epoch 1/1\n",
      "2240/2240 [==============================] - 1s 296us/step - loss: 0.0768\n",
      "Epoch: 31\n",
      "Epoch 1/1\n",
      "2240/2240 [==============================] - 1s 292us/step - loss: 0.0763\n",
      "Epoch: 32\n",
      "Epoch 1/1\n",
      "2240/2240 [==============================] - 1s 301us/step - loss: 0.0765\n",
      "Epoch: 33\n",
      "Epoch 1/1\n",
      "2240/2240 [==============================] - 1s 270us/step - loss: 0.0758\n",
      "Epoch: 34\n",
      "Epoch 1/1\n",
      "2240/2240 [==============================] - 1s 277us/step - loss: 0.0766\n",
      "Epoch: 35\n",
      "Epoch 1/1\n",
      "2240/2240 [==============================] - 1s 319us/step - loss: 0.0755\n",
      "Epoch: 36\n",
      "Epoch 1/1\n",
      "2240/2240 [==============================] - 1s 329us/step - loss: 0.0758\n",
      "Epoch: 37\n",
      "Epoch 1/1\n",
      "2240/2240 [==============================] - 1s 301us/step - loss: 0.0752\n",
      "Epoch: 38\n",
      "Epoch 1/1\n",
      "2240/2240 [==============================] - 1s 358us/step - loss: 0.0751\n",
      "Epoch: 39\n",
      "Epoch 1/1\n",
      "2240/2240 [==============================] - 1s 311us/step - loss: 0.0751\n",
      "Epoch: 40\n",
      "Epoch 1/1\n",
      "2240/2240 [==============================] - 1s 318us/step - loss: 0.0749\n",
      "Epoch: 41\n",
      "Epoch 1/1\n",
      "2240/2240 [==============================] - 1s 335us/step - loss: 0.0747\n",
      "Epoch: 42\n",
      "Epoch 1/1\n",
      "2240/2240 [==============================] - 1s 327us/step - loss: 0.0745\n",
      "Epoch: 43\n",
      "Epoch 1/1\n",
      "2240/2240 [==============================] - 1s 350us/step - loss: 0.0744\n",
      "Epoch: 44\n",
      "Epoch 1/1\n",
      "2240/2240 [==============================] - 1s 295us/step - loss: 0.0743\n",
      "Epoch: 45\n",
      "Epoch 1/1\n",
      "2240/2240 [==============================] - 1s 286us/step - loss: 0.0741\n",
      "Epoch: 46\n",
      "Epoch 1/1\n",
      "2240/2240 [==============================] - 1s 300us/step - loss: 0.0739\n",
      "Epoch: 47\n",
      "Epoch 1/1\n",
      "2240/2240 [==============================] - 1s 288us/step - loss: 0.0739\n",
      "Epoch: 48\n",
      "Epoch 1/1\n",
      "2240/2240 [==============================] - 1s 294us/step - loss: 0.0737\n",
      "Epoch: 49\n",
      "Epoch 1/1\n",
      "2240/2240 [==============================] - 1s 292us/step - loss: 0.0736\n",
      "Epoch: 50\n",
      "Epoch 1/1\n",
      "2240/2240 [==============================] - 1s 318us/step - loss: 0.0735\n",
      "Epoch: 51\n",
      "Epoch 1/1\n",
      "2240/2240 [==============================] - 1s 303us/step - loss: 0.0733\n",
      "Epoch: 52\n",
      "Epoch 1/1\n",
      "2240/2240 [==============================] - 1s 285us/step - loss: 0.0734\n",
      "Epoch: 53\n",
      "Epoch 1/1\n",
      "2240/2240 [==============================] - 1s 288us/step - loss: 0.0726\n",
      "Epoch: 54\n",
      "Epoch 1/1\n",
      "2240/2240 [==============================] - 1s 296us/step - loss: 0.0746\n",
      "Epoch: 55\n",
      "Epoch 1/1\n",
      "2240/2240 [==============================] - 1s 303us/step - loss: 0.0738\n",
      "Epoch: 56\n",
      "Epoch 1/1\n",
      "2240/2240 [==============================] - 1s 326us/step - loss: 0.0754 0s - loss: 0\n",
      "Epoch: 57\n",
      "Epoch 1/1\n",
      "2240/2240 [==============================] - 1s 326us/step - loss: 0.0718\n",
      "Epoch: 58\n",
      "Epoch 1/1\n",
      "2240/2240 [==============================] - 1s 314us/step - loss: 0.0720\n",
      "Epoch: 59\n",
      "Epoch 1/1\n",
      "2240/2240 [==============================] - 1s 354us/step - loss: 0.0727\n",
      "Epoch: 60\n",
      "Epoch 1/1\n",
      "2240/2240 [==============================] - 1s 337us/step - loss: 0.0724\n",
      "Epoch: 61\n",
      "Epoch 1/1\n",
      "2240/2240 [==============================] - 1s 363us/step - loss: 0.0720\n",
      "Epoch: 62\n",
      "Epoch 1/1\n",
      "2240/2240 [==============================] - 1s 352us/step - loss: 0.0720\n",
      "Epoch: 63\n",
      "Epoch 1/1\n",
      "2240/2240 [==============================] - 1s 320us/step - loss: 0.0721\n",
      "Epoch: 64\n",
      "Epoch 1/1\n",
      "2240/2240 [==============================] - 1s 329us/step - loss: 0.0719\n",
      "Epoch: 65\n",
      "Epoch 1/1\n",
      "2240/2240 [==============================] - 1s 367us/step - loss: 0.0718\n",
      "Epoch: 66\n",
      "Epoch 1/1\n",
      "2240/2240 [==============================] - 1s 361us/step - loss: 0.0717\n",
      "Epoch: 67\n",
      "Epoch 1/1\n",
      "2240/2240 [==============================] - 1s 362us/step - loss: 0.0716\n",
      "Epoch: 68\n",
      "Epoch 1/1\n",
      "2240/2240 [==============================] - 1s 315us/step - loss: 0.0715\n",
      "Epoch: 69\n",
      "Epoch 1/1\n",
      "2240/2240 [==============================] - 1s 303us/step - loss: 0.0715\n",
      "Epoch: 70\n",
      "Epoch 1/1\n",
      "2240/2240 [==============================] - 1s 300us/step - loss: 0.0713\n",
      "Epoch: 71\n",
      "Epoch 1/1\n",
      "2240/2240 [==============================] - 1s 306us/step - loss: 0.0713\n",
      "Epoch: 72\n",
      "Epoch 1/1\n",
      "2240/2240 [==============================] - 1s 300us/step - loss: 0.0711\n",
      "Epoch: 73\n",
      "Epoch 1/1\n",
      "2240/2240 [==============================] - 1s 302us/step - loss: 0.0711\n",
      "Epoch: 74\n",
      "Epoch 1/1\n",
      "2240/2240 [==============================] - 1s 381us/step - loss: 0.0710\n",
      "Epoch: 75\n",
      "Epoch 1/1\n",
      "2240/2240 [==============================] - 1s 365us/step - loss: 0.0708\n",
      "Epoch: 76\n",
      "Epoch 1/1\n",
      "2240/2240 [==============================] - 1s 367us/step - loss: 0.0707\n",
      "Epoch: 77\n",
      "Epoch 1/1\n",
      "2240/2240 [==============================] - 1s 368us/step - loss: 0.0707\n",
      "Epoch: 78\n",
      "Epoch 1/1\n",
      "2240/2240 [==============================] - 1s 309us/step - loss: 0.0706\n",
      "Epoch: 79\n",
      "Epoch 1/1\n",
      "2240/2240 [==============================] - 1s 368us/step - loss: 0.0704\n",
      "Epoch: 80\n",
      "Epoch 1/1\n",
      "2240/2240 [==============================] - 1s 382us/step - loss: 0.0704\n",
      "Epoch: 81\n",
      "Epoch 1/1\n",
      "2240/2240 [==============================] - 1s 371us/step - loss: 0.0703\n",
      "Epoch: 82\n",
      "Epoch 1/1\n",
      "2240/2240 [==============================] - 1s 416us/step - loss: 0.0701\n",
      "Epoch: 83\n",
      "Epoch 1/1\n",
      "2240/2240 [==============================] - 1s 375us/step - loss: 0.0701\n",
      "Epoch: 84\n",
      "Epoch 1/1\n",
      "2240/2240 [==============================] - 1s 365us/step - loss: 0.0699\n",
      "Epoch: 85\n",
      "Epoch 1/1\n",
      "2240/2240 [==============================] - 1s 373us/step - loss: 0.0698\n",
      "Epoch: 86\n",
      "Epoch 1/1\n",
      "2240/2240 [==============================] - 1s 400us/step - loss: 0.0697\n",
      "Epoch: 87\n",
      "Epoch 1/1\n"
     ]
    },
    {
     "name": "stdout",
     "output_type": "stream",
     "text": [
      "2240/2240 [==============================] - 1s 398us/step - loss: 0.0696\n",
      "Epoch: 88\n",
      "Epoch 1/1\n",
      "2240/2240 [==============================] - 1s 426us/step - loss: 0.0695\n",
      "Epoch: 89\n",
      "Epoch 1/1\n",
      "2240/2240 [==============================] - 1s 399us/step - loss: 0.0694\n",
      "Epoch: 90\n",
      "Epoch 1/1\n",
      "2240/2240 [==============================] - 1s 405us/step - loss: 0.0692\n",
      "Epoch: 91\n",
      "Epoch 1/1\n",
      "2240/2240 [==============================] - 1s 375us/step - loss: 0.0691\n",
      "Epoch: 92\n",
      "Epoch 1/1\n",
      "2240/2240 [==============================] - 1s 342us/step - loss: 0.0690\n",
      "Epoch: 93\n",
      "Epoch 1/1\n",
      "2240/2240 [==============================] - 1s 308us/step - loss: 0.0689\n",
      "Epoch: 94\n",
      "Epoch 1/1\n",
      "2240/2240 [==============================] - 1s 320us/step - loss: 0.0686\n",
      "Epoch: 95\n",
      "Epoch 1/1\n",
      "2240/2240 [==============================] - 1s 329us/step - loss: 0.0686\n",
      "Epoch: 96\n",
      "Epoch 1/1\n",
      "2240/2240 [==============================] - 1s 322us/step - loss: 0.0684\n",
      "Epoch: 97\n",
      "Epoch 1/1\n",
      "2240/2240 [==============================] - 1s 323us/step - loss: 0.0683\n",
      "Epoch: 98\n",
      "Epoch 1/1\n",
      "2240/2240 [==============================] - 1s 343us/step - loss: 0.0681\n",
      "Epoch: 99\n",
      "Epoch 1/1\n",
      "2240/2240 [==============================] - 1s 376us/step - loss: 0.0681\n",
      "Epoch: 100\n",
      "Epoch 1/1\n",
      "2240/2240 [==============================] - 1s 336us/step - loss: 0.0678\n",
      "Epoch: 101\n",
      "Epoch 1/1\n",
      "2240/2240 [==============================] - 1s 319us/step - loss: 0.0678\n",
      "Epoch: 102\n",
      "Epoch 1/1\n",
      "2240/2240 [==============================] - 1s 423us/step - loss: 0.0676\n",
      "Epoch: 103\n",
      "Epoch 1/1\n",
      "2240/2240 [==============================] - 1s 311us/step - loss: 0.0676\n",
      "Epoch: 104\n",
      "Epoch 1/1\n",
      "2240/2240 [==============================] - 1s 360us/step - loss: 0.0674\n",
      "Epoch: 105\n",
      "Epoch 1/1\n",
      "2240/2240 [==============================] - 1s 367us/step - loss: 0.0673\n",
      "Epoch: 106\n",
      "Epoch 1/1\n",
      "2240/2240 [==============================] - 1s 385us/step - loss: 0.0672\n",
      "Epoch: 107\n",
      "Epoch 1/1\n",
      "2240/2240 [==============================] - 1s 394us/step - loss: 0.0670\n",
      "Epoch: 108\n",
      "Epoch 1/1\n",
      "2240/2240 [==============================] - 1s 356us/step - loss: 0.0671\n",
      "Epoch: 109\n",
      "Epoch 1/1\n",
      "2240/2240 [==============================] - 1s 335us/step - loss: 0.0668\n",
      "Epoch: 110\n",
      "Epoch 1/1\n",
      "2240/2240 [==============================] - 1s 334us/step - loss: 0.0669\n",
      "Epoch: 111\n",
      "Epoch 1/1\n",
      "2240/2240 [==============================] - 1s 323us/step - loss: 0.0668\n",
      "Epoch: 112\n",
      "Epoch 1/1\n",
      "2240/2240 [==============================] - 1s 332us/step - loss: 0.0665\n",
      "Epoch: 113\n",
      "Epoch 1/1\n",
      "2240/2240 [==============================] - 1s 315us/step - loss: 0.0666\n",
      "Epoch: 114\n",
      "Epoch 1/1\n",
      "2240/2240 [==============================] - 1s 348us/step - loss: 0.0665\n",
      "Epoch: 115\n",
      "Epoch 1/1\n",
      "2240/2240 [==============================] - 1s 381us/step - loss: 0.0663 0s - loss: 0.\n",
      "Epoch: 116\n",
      "Epoch 1/1\n",
      "2240/2240 [==============================] - 1s 388us/step - loss: 0.0664\n",
      "Epoch: 117\n",
      "Epoch 1/1\n",
      "2240/2240 [==============================] - 1s 371us/step - loss: 0.0661\n",
      "Epoch: 118\n",
      "Epoch 1/1\n",
      "2240/2240 [==============================] - 1s 352us/step - loss: 0.0662\n",
      "Epoch: 119\n",
      "Epoch 1/1\n",
      "2240/2240 [==============================] - 1s 381us/step - loss: 0.0660\n"
     ]
    }
   ],
   "source": [
    "#Statefull\n",
    "for i in range(epochs):\n",
    "    print(\"Epoch: \" + str(i))\n",
    "    #run through all data but the cell, hidden state are used for the next batch.\n",
    "    regressor_mae.fit(X_train, y_train, shuffle=False, epochs = 1, batch_size = batch_size)\n",
    "    #resets only the states but the weights, cell and hidden are kept.\n",
    "    regressor_mae.reset_states()\n",
    "    \n",
    "#Stateless\n",
    "#between the batches the cell and hidden states are lost.\n",
    "#regressor_mae.fit(X_train, y_train, shuffle=False, epochs = epochs, batch_size = batch_size)"
   ]
  },
  {
   "cell_type": "markdown",
   "metadata": {},
   "source": [
    "# Save model"
   ]
  },
  {
   "cell_type": "code",
   "execution_count": 66,
   "metadata": {},
   "outputs": [],
   "source": [
    "\n",
    "import h5py\n",
    "regressor_mae.save(filepath=\"E:/Coursera/IBM Advan DS/Capstone project/my_10y_model_with_mae_30_ts.h5\")"
   ]
  },
  {
   "cell_type": "markdown",
   "metadata": {},
   "source": [
    "# Model Evaluation\n",
    "Commonly used metrics to evaluate forecast accuracy are the coefficient of variation (CV RMSE),\n",
    "the root mean squared error (RMSE) and the Mean Absolute Error (MAE). CV (RMSE) is the RMSE normalized by the mean of the measured values and quantifies typical size of the error relative to the mean of the observations. A high CV score indicates that a model has a high error range. Root Mean Square Error (RMSE) is a frequently used measure of the differences between values (sample or population values) predicted by a model or an estimator and the values observed. MAE, a commonly used\n",
    "metric, is the mean value of the sum of absolute differences between actual and forecasted. RMSE is\n",
    "another commonly used metric. It penalizes the larger error terms and tends to become increasingly\n",
    "larger than MAE for outliers\n"
   ]
  },
  {
   "cell_type": "code",
   "execution_count": 67,
   "metadata": {},
   "outputs": [],
   "source": [
    "#load model\n",
    "import h5py\n",
    "regressor_mae = load_model(filepath=\"E:/Coursera/IBM Advan DS/Capstone project/my_10y_model_with_mae_30_ts.h5\")"
   ]
  },
  {
   "cell_type": "code",
   "execution_count": 68,
   "metadata": {},
   "outputs": [],
   "source": [
    "def get_test_length(dataset, batch_size):\n",
    "    \n",
    "    test_length_values = []\n",
    "    for x in range(len(dataset) - 200, len(dataset) - timesteps*2): \n",
    "        modulo=(x-upper_train)%batch_size\n",
    "        if (modulo == 0):\n",
    "            test_length_values.append(x)\n",
    "            print(x)\n",
    "    return (max(test_length_values))"
   ]
  },
  {
   "cell_type": "code",
   "execution_count": 69,
   "metadata": {},
   "outputs": [
    {
     "name": "stdout",
     "output_type": "stream",
     "text": [
      "2364\n",
      "2428\n",
      "2428\n",
      "128\n"
     ]
    }
   ],
   "source": [
    "test_length = get_test_length(df_data_1, batch_size)\n",
    "print(test_length)\n",
    "upper_test = test_length + timesteps*2\n",
    "testset_length = test_length - upper_train\n",
    "print(testset_length)"
   ]
  },
  {
   "cell_type": "code",
   "execution_count": 70,
   "metadata": {},
   "outputs": [
    {
     "name": "stdout",
     "output_type": "stream",
     "text": [
      "2300 2488 2535\n"
     ]
    }
   ],
   "source": [
    "print(upper_train, upper_test, len(df_data_1))"
   ]
  },
  {
   "cell_type": "code",
   "execution_count": 71,
   "metadata": {},
   "outputs": [],
   "source": [
    "# construct test set\n",
    "\n",
    "#subsetting\n",
    "df_data_1_test = df_data_1[upper_train:upper_test] \n",
    "test_set = df_data_1_test.iloc[:,1:2].values\n",
    "\n",
    "#scaling\n",
    "scaled_real_bcg_values_test = sc.fit_transform(np.float64(test_set))\n",
    "\n",
    "#creating input data\n",
    "X_test = []\n",
    "for i in range(timesteps, testset_length + timesteps):\n",
    "    X_test.append(scaled_real_bcg_values_test[i-timesteps:i, 0])\n",
    "X_test = np.array(X_test)\n",
    "\n",
    "\n",
    "#reshaping\n",
    "X_test = np.reshape(X_test, (X_test.shape[0], X_test.shape[1], 1))\n"
   ]
  },
  {
   "cell_type": "code",
   "execution_count": 72,
   "metadata": {},
   "outputs": [
    {
     "data": {
      "text/plain": [
       "(128, 30, 1)"
      ]
     },
     "execution_count": 72,
     "metadata": {},
     "output_type": "execute_result"
    }
   ],
   "source": [
    "X_test.shape"
   ]
  },
  {
   "cell_type": "code",
   "execution_count": 73,
   "metadata": {},
   "outputs": [
    {
     "name": "stdout",
     "output_type": "stream",
     "text": [
      "(128, 30, 1)\n",
      "(128, 30)\n",
      "(98, 1)\n"
     ]
    }
   ],
   "source": [
    "#prediction\n",
    "predicted_bcg_values_test_mae = regressor_mae.predict(X_test, batch_size=batch_size)\n",
    "regressor_mae.reset_states()\n",
    "\n",
    "print(predicted_bcg_values_test_mae.shape)\n",
    "\n",
    "#reshaping\n",
    "predicted_bcg_values_test_mae = np.reshape(predicted_bcg_values_test_mae, \n",
    "                                       (predicted_bcg_values_test_mae.shape[0], \n",
    "                                        predicted_bcg_values_test_mae.shape[1]))\n",
    "\n",
    "print(predicted_bcg_values_test_mae.shape)\n",
    "#inverse transform\n",
    "predicted_bcg_values_test_mae = sc.inverse_transform(predicted_bcg_values_test_mae)\n",
    "\n",
    "\n",
    "#creating y_test data\n",
    "y_test = []\n",
    "for j in range(0, testset_length - timesteps):\n",
    "    y_test = np.append(y_test, predicted_bcg_values_test_mae[j, timesteps-1])\n",
    "\n",
    "# reshaping\n",
    "y_test = np.reshape(y_test, (y_test.shape[0], 1))\n",
    "\n",
    "print(y_test.shape)"
   ]
  },
  {
   "cell_type": "code",
   "execution_count": 74,
   "metadata": {},
   "outputs": [
    {
     "data": {
      "image/png": "[encoded data removed]",
      "text/plain": [
       "<Figure size 432x288 with 1 Axes>"
      ]
     },
     "metadata": {
      "needs_background": "light"
     },
     "output_type": "display_data"
    }
   ],
   "source": [
    "# Visualising the results\n",
    "plt.plot(test_set[timesteps:len(y_test)].astype(float), color = 'red', label = 'Real Crude Oil Prices')\n",
    "plt.plot(y_test[0:len(y_test) - timesteps].astype(float), color = 'blue', label = 'Predicted Crude Oil Prices')\n",
    "plt.title('Crude Oil Prices Prediction - MAE')\n",
    "plt.xlabel('Time')\n",
    "plt.ylabel('Crude Oil Prices')\n",
    "plt.legend()\n",
    "plt.show()"
   ]
  },
  {
   "cell_type": "code",
   "execution_count": 75,
   "metadata": {},
   "outputs": [
    {
     "name": "stdout",
     "output_type": "stream",
     "text": [
      "2.0753383164298707\n"
     ]
    }
   ],
   "source": [
    "#MSE (mean sqared error)\n",
    "import math\n",
    "from sklearn.metrics import mean_squared_error\n",
    "rmse = math.sqrt(mean_squared_error(test_set[timesteps:len(y_test)], y_test[0:len(y_test) - timesteps]))\n",
    "print(rmse)"
   ]
  },
  {
   "cell_type": "code",
   "execution_count": 76,
   "metadata": {},
   "outputs": [
    {
     "name": "stdout",
     "output_type": "stream",
     "text": [
      "1.6341931690889244\n"
     ]
    }
   ],
   "source": [
    "#MAE (mean absolut error)\n",
    "from sklearn.metrics import mean_absolute_error\n",
    "mae = mean_absolute_error(test_set[timesteps:len(y_test)], y_test[0:len(y_test) - timesteps])\n",
    "print(mae)"
   ]
  },
  {
   "cell_type": "markdown",
   "metadata": {},
   "source": [
    "# Model Definition with MSE Loss-Function\n",
    "Initialising the LSTM Model with MSE Loss-Function\n",
    "\n",
    "Using Functional API"
   ]
  },
  {
   "cell_type": "code",
   "execution_count": 77,
   "metadata": {},
   "outputs": [
    {
     "name": "stdout",
     "output_type": "stream",
     "text": [
      "_________________________________________________________________\n",
      "Layer (type)                 Output Shape              Param #   \n",
      "=================================================================\n",
      "input_4 (InputLayer)         (64, 30, 1)               0         \n",
      "_________________________________________________________________\n",
      "lstm_7 (LSTM)                (64, 30, 10)              480       \n",
      "_________________________________________________________________\n",
      "lstm_8 (LSTM)                (64, 30, 10)              840       \n",
      "_________________________________________________________________\n",
      "dense_4 (Dense)              (64, 30, 1)               11        \n",
      "=================================================================\n",
      "Total params: 1,331\n",
      "Trainable params: 1,331\n",
      "Non-trainable params: 0\n",
      "_________________________________________________________________\n"
     ]
    }
   ],
   "source": [
    "# Initialising the LSTM Model with MSE Loss Function\n",
    "\n",
    "inputs_1_mse = Input(batch_shape=(batch_size,timesteps,1))\n",
    "lstm_1_mse = LSTM(10, stateful=True, return_sequences=True)(inputs_1_mse)\n",
    "lstm_2_mse = LSTM(10, stateful=True, return_sequences=True)(lstm_1_mse)\n",
    "\n",
    "output_1_mse = Dense(units = 1)(lstm_2_mse)\n",
    "\n",
    "regressor_mse = Model(inputs=inputs_1_mse, outputs = output_1_mse)\n",
    "\n",
    "#mse -> mean squared error as loss function\n",
    "regressor_mse.compile(optimizer='adam', loss = 'mse')\n",
    "regressor_mse.summary()"
   ]
  },
  {
   "cell_type": "code",
   "execution_count": 78,
   "metadata": {},
   "outputs": [],
   "source": [
    "\n",
    "\n",
    "from keras import backend as K\n",
    "\n",
    "K.set_session(K.tf.Session(config=K.tf.ConfigProto(intra_op_parallelism_threads=1, inter_op_parallelism_threads=1)))\n"
   ]
  },
  {
   "cell_type": "markdown",
   "metadata": {},
   "source": [
    "# Model Training"
   ]
  },
  {
   "cell_type": "code",
   "execution_count": 79,
   "metadata": {},
   "outputs": [
    {
     "name": "stdout",
     "output_type": "stream",
     "text": [
      "Epoch: 0\n",
      "Epoch 1/1\n",
      "2240/2240 [==============================] - 2s 761us/step - loss: 0.2527\n",
      "Epoch: 1\n",
      "Epoch 1/1\n",
      "2240/2240 [==============================] - 1s 278us/step - loss: 0.0755\n",
      "Epoch: 2\n",
      "Epoch 1/1\n",
      "2240/2240 [==============================] - 1s 275us/step - loss: 0.0228\n",
      "Epoch: 3\n",
      "Epoch 1/1\n",
      "2240/2240 [==============================] - 1s 273us/step - loss: 0.0204\n",
      "Epoch: 4\n",
      "Epoch 1/1\n",
      "2240/2240 [==============================] - 1s 273us/step - loss: 0.0168\n",
      "Epoch: 5\n",
      "Epoch 1/1\n",
      "2240/2240 [==============================] - 1s 275us/step - loss: 0.0158\n",
      "Epoch: 6\n",
      "Epoch 1/1\n",
      "2240/2240 [==============================] - 1s 275us/step - loss: 0.0154\n",
      "Epoch: 7\n",
      "Epoch 1/1\n",
      "2240/2240 [==============================] - 1s 275us/step - loss: 0.0151\n",
      "Epoch: 8\n",
      "Epoch 1/1\n",
      "2240/2240 [==============================] - 1s 282us/step - loss: 0.0147\n",
      "Epoch: 9\n",
      "Epoch 1/1\n",
      "2240/2240 [==============================] - 1s 274us/step - loss: 0.0143\n",
      "Epoch: 10\n",
      "Epoch 1/1\n",
      "2240/2240 [==============================] - 1s 275us/step - loss: 0.0141\n",
      "Epoch: 11\n",
      "Epoch 1/1\n",
      "2240/2240 [==============================] - 1s 274us/step - loss: 0.0138\n",
      "Epoch: 12\n",
      "Epoch 1/1\n",
      "2240/2240 [==============================] - 1s 272us/step - loss: 0.0136\n",
      "Epoch: 13\n",
      "Epoch 1/1\n",
      "2240/2240 [==============================] - 1s 274us/step - loss: 0.0133\n",
      "Epoch: 14\n",
      "Epoch 1/1\n",
      "2240/2240 [==============================] - 1s 274us/step - loss: 0.0131\n",
      "Epoch: 15\n",
      "Epoch 1/1\n",
      "2240/2240 [==============================] - 1s 274us/step - loss: 0.0129\n",
      "Epoch: 16\n",
      "Epoch 1/1\n",
      "2240/2240 [==============================] - 1s 286us/step - loss: 0.0128\n",
      "Epoch: 17\n",
      "Epoch 1/1\n",
      "2240/2240 [==============================] - 1s 275us/step - loss: 0.0126\n",
      "Epoch: 18\n",
      "Epoch 1/1\n",
      "2240/2240 [==============================] - 1s 276us/step - loss: 0.0124\n",
      "Epoch: 19\n",
      "Epoch 1/1\n",
      "2240/2240 [==============================] - 1s 277us/step - loss: 0.0123\n",
      "Epoch: 20\n",
      "Epoch 1/1\n",
      "2240/2240 [==============================] - 1s 280us/step - loss: 0.0122\n",
      "Epoch: 21\n",
      "Epoch 1/1\n",
      "2240/2240 [==============================] - 1s 304us/step - loss: 0.0120\n",
      "Epoch: 22\n",
      "Epoch 1/1\n",
      "2240/2240 [==============================] - 1s 404us/step - loss: 0.0119\n",
      "Epoch: 23\n",
      "Epoch 1/1\n",
      "2240/2240 [==============================] - 1s 275us/step - loss: 0.0118\n",
      "Epoch: 24\n",
      "Epoch 1/1\n",
      "2240/2240 [==============================] - 1s 285us/step - loss: 0.0117\n",
      "Epoch: 25\n",
      "Epoch 1/1\n",
      "2240/2240 [==============================] - 1s 350us/step - loss: 0.0116\n",
      "Epoch: 26\n",
      "Epoch 1/1\n",
      "2240/2240 [==============================] - 1s 298us/step - loss: 0.0115\n",
      "Epoch: 27\n",
      "Epoch 1/1\n",
      "2240/2240 [==============================] - 1s 361us/step - loss: 0.0114\n",
      "Epoch: 28\n",
      "Epoch 1/1\n",
      "2240/2240 [==============================] - 1s 303us/step - loss: 0.0113\n",
      "Epoch: 29\n",
      "Epoch 1/1\n",
      "2240/2240 [==============================] - 1s 296us/step - loss: 0.0112\n",
      "Epoch: 30\n",
      "Epoch 1/1\n",
      "2240/2240 [==============================] - 1s 313us/step - loss: 0.0112\n",
      "Epoch: 31\n",
      "Epoch 1/1\n",
      "2240/2240 [==============================] - 1s 364us/step - loss: 0.0111\n",
      "Epoch: 32\n",
      "Epoch 1/1\n",
      "2240/2240 [==============================] - 1s 324us/step - loss: 0.0110\n",
      "Epoch: 33\n",
      "Epoch 1/1\n",
      "2240/2240 [==============================] - 1s 348us/step - loss: 0.0109\n",
      "Epoch: 34\n",
      "Epoch 1/1\n",
      "2240/2240 [==============================] - 1s 310us/step - loss: 0.0109\n",
      "Epoch: 35\n",
      "Epoch 1/1\n",
      "2240/2240 [==============================] - 1s 315us/step - loss: 0.0108\n",
      "Epoch: 36\n",
      "Epoch 1/1\n",
      "2240/2240 [==============================] - 1s 346us/step - loss: 0.0107\n",
      "Epoch: 37\n",
      "Epoch 1/1\n",
      "2240/2240 [==============================] - 1s 312us/step - loss: 0.0107\n",
      "Epoch: 38\n",
      "Epoch 1/1\n",
      "2240/2240 [==============================] - 1s 318us/step - loss: 0.0106\n",
      "Epoch: 39\n",
      "Epoch 1/1\n",
      "2240/2240 [==============================] - 1s 311us/step - loss: 0.0106\n",
      "Epoch: 40\n",
      "Epoch 1/1\n",
      "2240/2240 [==============================] - 1s 333us/step - loss: 0.0105\n",
      "Epoch: 41\n",
      "Epoch 1/1\n",
      "2240/2240 [==============================] - 1s 311us/step - loss: 0.0105\n",
      "Epoch: 42\n",
      "Epoch 1/1\n",
      "2240/2240 [==============================] - 1s 342us/step - loss: 0.0104\n",
      "Epoch: 43\n",
      "Epoch 1/1\n",
      "2240/2240 [==============================] - 1s 311us/step - loss: 0.0104\n",
      "Epoch: 44\n",
      "Epoch 1/1\n",
      "2240/2240 [==============================] - 1s 317us/step - loss: 0.0103\n",
      "Epoch: 45\n",
      "Epoch 1/1\n",
      "2240/2240 [==============================] - 1s 330us/step - loss: 0.0103\n",
      "Epoch: 46\n",
      "Epoch 1/1\n",
      "2240/2240 [==============================] - 1s 324us/step - loss: 0.0102\n",
      "Epoch: 47\n",
      "Epoch 1/1\n",
      "2240/2240 [==============================] - 1s 327us/step - loss: 0.0102\n",
      "Epoch: 48\n",
      "Epoch 1/1\n",
      "2240/2240 [==============================] - 1s 325us/step - loss: 0.0101\n",
      "Epoch: 49\n",
      "Epoch 1/1\n",
      "2240/2240 [==============================] - 1s 344us/step - loss: 0.0101\n",
      "Epoch: 50\n",
      "Epoch 1/1\n",
      "2240/2240 [==============================] - 1s 335us/step - loss: 0.0100\n",
      "Epoch: 51\n",
      "Epoch 1/1\n",
      "2240/2240 [==============================] - 1s 327us/step - loss: 0.0100\n",
      "Epoch: 52\n",
      "Epoch 1/1\n",
      "2240/2240 [==============================] - 1s 376us/step - loss: 0.0100\n",
      "Epoch: 53\n",
      "Epoch 1/1\n",
      "2240/2240 [==============================] - 1s 466us/step - loss: 0.0099\n",
      "Epoch: 54\n",
      "Epoch 1/1\n",
      "2240/2240 [==============================] - 1s 305us/step - loss: 0.0099\n",
      "Epoch: 55\n",
      "Epoch 1/1\n",
      "2240/2240 [==============================] - 1s 334us/step - loss: 0.0098\n",
      "Epoch: 56\n",
      "Epoch 1/1\n",
      "2240/2240 [==============================] - 1s 319us/step - loss: 0.0098\n",
      "Epoch: 57\n",
      "Epoch 1/1\n",
      "2240/2240 [==============================] - 1s 323us/step - loss: 0.0098\n",
      "Epoch: 58\n",
      "Epoch 1/1\n",
      "2240/2240 [==============================] - 1s 442us/step - loss: 0.0097\n",
      "Epoch: 59\n",
      "Epoch 1/1\n",
      "2240/2240 [==============================] - 1s 326us/step - loss: 0.0097\n",
      "Epoch: 60\n",
      "Epoch 1/1\n",
      "2240/2240 [==============================] - 1s 314us/step - loss: 0.0097\n",
      "Epoch: 61\n",
      "Epoch 1/1\n",
      "2240/2240 [==============================] - 1s 375us/step - loss: 0.0096\n",
      "Epoch: 62\n",
      "Epoch 1/1\n",
      "2240/2240 [==============================] - 1s 338us/step - loss: 0.0096\n",
      "Epoch: 63\n",
      "Epoch 1/1\n",
      "2240/2240 [==============================] - 1s 384us/step - loss: 0.0096\n",
      "Epoch: 64\n",
      "Epoch 1/1\n",
      "2240/2240 [==============================] - 1s 308us/step - loss: 0.0095\n",
      "Epoch: 65\n",
      "Epoch 1/1\n",
      "2240/2240 [==============================] - 1s 340us/step - loss: 0.0095\n",
      "Epoch: 66\n",
      "Epoch 1/1\n",
      "2240/2240 [==============================] - 1s 313us/step - loss: 0.0095\n",
      "Epoch: 67\n",
      "Epoch 1/1\n",
      "2240/2240 [==============================] - 1s 331us/step - loss: 0.0094\n",
      "Epoch: 68\n",
      "Epoch 1/1\n",
      "2240/2240 [==============================] - 1s 433us/step - loss: 0.0094\n",
      "Epoch: 69\n",
      "Epoch 1/1\n",
      "2240/2240 [==============================] - 1s 371us/step - loss: 0.0094\n",
      "Epoch: 70\n",
      "Epoch 1/1\n",
      "2240/2240 [==============================] - 1s 385us/step - loss: 0.0093\n",
      "Epoch: 71\n",
      "Epoch 1/1\n",
      "2240/2240 [==============================] - 1s 335us/step - loss: 0.0093\n",
      "Epoch: 72\n",
      "Epoch 1/1\n",
      "2240/2240 [==============================] - 1s 338us/step - loss: 0.0093\n",
      "Epoch: 73\n",
      "Epoch 1/1\n",
      "2240/2240 [==============================] - 1s 334us/step - loss: 0.0093\n",
      "Epoch: 74\n",
      "Epoch 1/1\n",
      "2240/2240 [==============================] - 1s 358us/step - loss: 0.0092\n",
      "Epoch: 75\n",
      "Epoch 1/1\n",
      "2240/2240 [==============================] - 1s 395us/step - loss: 0.0092 0s - loss:\n",
      "Epoch: 76\n",
      "Epoch 1/1\n",
      "2240/2240 [==============================] - 1s 385us/step - loss: 0.0092\n",
      "Epoch: 77\n",
      "Epoch 1/1\n",
      "2240/2240 [==============================] - 1s 373us/step - loss: 0.0091\n",
      "Epoch: 78\n",
      "Epoch 1/1\n",
      "2240/2240 [==============================] - 1s 347us/step - loss: 0.0091\n",
      "Epoch: 79\n",
      "Epoch 1/1\n",
      "2240/2240 [==============================] - 1s 377us/step - loss: 0.0091\n",
      "Epoch: 80\n",
      "Epoch 1/1\n",
      "2240/2240 [==============================] - 1s 334us/step - loss: 0.0091\n",
      "Epoch: 81\n",
      "Epoch 1/1\n",
      "2240/2240 [==============================] - 1s 336us/step - loss: 0.0090\n",
      "Epoch: 82\n",
      "Epoch 1/1\n",
      "2240/2240 [==============================] - 1s 337us/step - loss: 0.0090\n",
      "Epoch: 83\n",
      "Epoch 1/1\n",
      "2240/2240 [==============================] - 1s 337us/step - loss: 0.0090\n",
      "Epoch: 84\n",
      "Epoch 1/1\n",
      "2240/2240 [==============================] - 1s 333us/step - loss: 0.0090\n",
      "Epoch: 85\n",
      "Epoch 1/1\n",
      "2240/2240 [==============================] - 1s 352us/step - loss: 0.0089\n",
      "Epoch: 86\n",
      "Epoch 1/1\n",
      "2240/2240 [==============================] - 1s 373us/step - loss: 0.0089\n",
      "Epoch: 87\n",
      "Epoch 1/1\n"
     ]
    },
    {
     "name": "stdout",
     "output_type": "stream",
     "text": [
      "2240/2240 [==============================] - 1s 333us/step - loss: 0.0089\n",
      "Epoch: 88\n",
      "Epoch 1/1\n",
      "2240/2240 [==============================] - 1s 399us/step - loss: 0.0089\n",
      "Epoch: 89\n",
      "Epoch 1/1\n",
      "2240/2240 [==============================] - 1s 331us/step - loss: 0.0088\n",
      "Epoch: 90\n",
      "Epoch 1/1\n",
      "2240/2240 [==============================] - 1s 321us/step - loss: 0.0088\n",
      "Epoch: 91\n",
      "Epoch 1/1\n",
      "2240/2240 [==============================] - 1s 325us/step - loss: 0.0088\n",
      "Epoch: 92\n",
      "Epoch 1/1\n",
      "2240/2240 [==============================] - 1s 337us/step - loss: 0.0088\n",
      "Epoch: 93\n",
      "Epoch 1/1\n",
      "2240/2240 [==============================] - 1s 330us/step - loss: 0.0087\n",
      "Epoch: 94\n",
      "Epoch 1/1\n",
      "2240/2240 [==============================] - 1s 340us/step - loss: 0.0087\n",
      "Epoch: 95\n",
      "Epoch 1/1\n",
      "2240/2240 [==============================] - 1s 351us/step - loss: 0.0087\n",
      "Epoch: 96\n",
      "Epoch 1/1\n",
      "2240/2240 [==============================] - 1s 343us/step - loss: 0.0087\n",
      "Epoch: 97\n",
      "Epoch 1/1\n",
      "2240/2240 [==============================] - 1s 363us/step - loss: 0.0087\n",
      "Epoch: 98\n",
      "Epoch 1/1\n",
      "2240/2240 [==============================] - 1s 364us/step - loss: 0.0086\n",
      "Epoch: 99\n",
      "Epoch 1/1\n",
      "2240/2240 [==============================] - 1s 374us/step - loss: 0.0086\n",
      "Epoch: 100\n",
      "Epoch 1/1\n",
      "2240/2240 [==============================] - 1s 331us/step - loss: 0.0086\n",
      "Epoch: 101\n",
      "Epoch 1/1\n",
      "2240/2240 [==============================] - 1s 354us/step - loss: 0.0086\n",
      "Epoch: 102\n",
      "Epoch 1/1\n",
      "2240/2240 [==============================] - 1s 344us/step - loss: 0.0086\n",
      "Epoch: 103\n",
      "Epoch 1/1\n",
      "2240/2240 [==============================] - 1s 362us/step - loss: 0.0085\n",
      "Epoch: 104\n",
      "Epoch 1/1\n",
      "2240/2240 [==============================] - 1s 362us/step - loss: 0.0085\n",
      "Epoch: 105\n",
      "Epoch 1/1\n",
      "2240/2240 [==============================] - 1s 368us/step - loss: 0.0085\n",
      "Epoch: 106\n",
      "Epoch 1/1\n",
      "2240/2240 [==============================] - 1s 362us/step - loss: 0.0085\n",
      "Epoch: 107\n",
      "Epoch 1/1\n",
      "2240/2240 [==============================] - 1s 363us/step - loss: 0.0085\n",
      "Epoch: 108\n",
      "Epoch 1/1\n",
      "2240/2240 [==============================] - 1s 373us/step - loss: 0.0084\n",
      "Epoch: 109\n",
      "Epoch 1/1\n",
      "2240/2240 [==============================] - 1s 354us/step - loss: 0.0084\n",
      "Epoch: 110\n",
      "Epoch 1/1\n",
      "2240/2240 [==============================] - 1s 349us/step - loss: 0.0084\n",
      "Epoch: 111\n",
      "Epoch 1/1\n",
      "2240/2240 [==============================] - 1s 364us/step - loss: 0.0084\n",
      "Epoch: 112\n",
      "Epoch 1/1\n",
      "2240/2240 [==============================] - 1s 354us/step - loss: 0.0084\n",
      "Epoch: 113\n",
      "Epoch 1/1\n",
      "2240/2240 [==============================] - 1s 349us/step - loss: 0.0083\n",
      "Epoch: 114\n",
      "Epoch 1/1\n",
      "2240/2240 [==============================] - 1s 346us/step - loss: 0.0083\n",
      "Epoch: 115\n",
      "Epoch 1/1\n",
      "2240/2240 [==============================] - 1s 345us/step - loss: 0.0083\n",
      "Epoch: 116\n",
      "Epoch 1/1\n",
      "2240/2240 [==============================] - 1s 378us/step - loss: 0.0083\n",
      "Epoch: 117\n",
      "Epoch 1/1\n",
      "2240/2240 [==============================] - 1s 422us/step - loss: 0.0083\n",
      "Epoch: 118\n",
      "Epoch 1/1\n",
      "2240/2240 [==============================] - 1s 361us/step - loss: 0.0083\n",
      "Epoch: 119\n",
      "Epoch 1/1\n",
      "2240/2240 [==============================] - 1s 370us/step - loss: 0.0082\n"
     ]
    }
   ],
   "source": [
    "epochs = 120\n",
    "for i in range(epochs):\n",
    "    print(\"Epoch: \" + str(i))\n",
    "    regressor_mse.fit(X_train, y_train, shuffle=False, epochs = 1, batch_size = batch_size)\n",
    "    regressor_mse.reset_states()"
   ]
  },
  {
   "cell_type": "markdown",
   "metadata": {},
   "source": [
    "# Save Model"
   ]
  },
  {
   "cell_type": "code",
   "execution_count": 80,
   "metadata": {},
   "outputs": [],
   "source": [
    "import h5py\n",
    "regressor_mse.save(filepath=\"E:/Coursera/IBM Advan DS/Capstone project/my_10yearmodel_with_mse_30_ts.h5\")"
   ]
  },
  {
   "cell_type": "markdown",
   "metadata": {},
   "source": [
    "# Model Evaluation"
   ]
  },
  {
   "cell_type": "code",
   "execution_count": 81,
   "metadata": {},
   "outputs": [],
   "source": [
    "regressor_mse = load_model(filepath=\"E:/Coursera/IBM Advan DS/Capstone project/my_10yearmodel_with_mse_30_ts.h5\")"
   ]
  },
  {
   "cell_type": "code",
   "execution_count": 82,
   "metadata": {},
   "outputs": [],
   "source": [
    "predicted_bcg_values_test_mse = regressor_mse.predict(X_test, batch_size=batch_size)\n",
    "regressor_mse.reset_states()\n",
    "\n",
    "predicted_bcg_values_test_mse = np.reshape(predicted_bcg_values_test_mse, \n",
    "                                       (predicted_bcg_values_test_mse.shape[0], \n",
    "                                        predicted_bcg_values_test_mse.shape[1]))\n",
    "predicted_bcg_values_test_mse = sc.inverse_transform(predicted_bcg_values_test_mse)\n",
    "\n",
    "pred_mse = []\n",
    "\n",
    "for j in range(0, testset_length - timesteps):\n",
    "    pred_mse = np.append(pred_mse, predicted_bcg_values_test_mse[j, timesteps-1])\n",
    "\n",
    "pred_mse = np.reshape(pred_mse, (pred_mse.shape[0], 1))"
   ]
  },
  {
   "cell_type": "code",
   "execution_count": 83,
   "metadata": {},
   "outputs": [
    {
     "data": {
      "image/png": "[encoded data removed]",
      "text/plain": [
       "<Figure size 432x288 with 1 Axes>"
      ]
     },
     "metadata": {
      "needs_background": "light"
     },
     "output_type": "display_data"
    }
   ],
   "source": [
    "# Visualising the results\n",
    "plt.plot(test_set[timesteps:len(pred_mse)].astype(float), color = 'red', label = 'Real Crude Oil Prices')\n",
    "plt.plot(pred_mse[0:len(pred_mse) - timesteps], color = 'green', label = 'Predicted Crude Oil Prices with MSE')\n",
    "plt.title('Crude Oil Prices Prediction - MSE')\n",
    "plt.xlabel('Time')\n",
    "plt.ylabel('Crude Oil Prices')\n",
    "plt.legend()\n",
    "plt.show()"
   ]
  },
  {
   "cell_type": "code",
   "execution_count": 84,
   "metadata": {},
   "outputs": [
    {
     "name": "stdout",
     "output_type": "stream",
     "text": [
      "2.0983585111473055\n"
     ]
    }
   ],
   "source": [
    "from sklearn.metrics import mean_squared_error\n",
    "rmse = math.sqrt(mean_squared_error(test_set[timesteps:len(pred_mse)], pred_mse[0:len(pred_mse) - timesteps]))\n",
    "print(rmse)"
   ]
  },
  {
   "cell_type": "markdown",
   "metadata": {},
   "source": [
    "# Model Comparison\n",
    "Commonly used metrics to evaluate forecast accuracy are the coefficient of variation (CV RMSE),\n",
    "the root mean squared error (RMSE) and the Mean Absolute Error (MAE). In order to compare between MSE and MAE model, we normalize RSME and MEA by the mean of the measured values and quantifies typical size of the error relative to the mean of the observations (e.g, mean, median, Thirst quartile - First quartile). A high CV score indicates that a model has a high error range."
   ]
  },
  {
   "cell_type": "code",
   "execution_count": 85,
   "metadata": {},
   "outputs": [
    {
     "name": "stdout",
     "output_type": "stream",
     "text": [
      "62.21411764705883\n"
     ]
    }
   ],
   "source": [
    "mean = np.mean(np.float64(test_set[timesteps:len(pred_mse)]))\n",
    "print(mean)"
   ]
  },
  {
   "cell_type": "code",
   "execution_count": 86,
   "metadata": {},
   "outputs": [
    {
     "data": {
      "text/plain": [
       "3.372801207358288"
      ]
     },
     "execution_count": 86,
     "metadata": {},
     "output_type": "execute_result"
    }
   ],
   "source": [
    "rmse/mean * 100"
   ]
  },
  {
   "cell_type": "code",
   "execution_count": 87,
   "metadata": {},
   "outputs": [
    {
     "name": "stdout",
     "output_type": "stream",
     "text": [
      "1.7032454591638901\n"
     ]
    }
   ],
   "source": [
    "from sklearn.metrics import mean_absolute_error\n",
    "mae = mean_absolute_error(test_set[timesteps:len(pred_mse)], pred_mse[0:len(pred_mse) - timesteps])\n",
    "print(mae)"
   ]
  },
  {
   "cell_type": "code",
   "execution_count": 88,
   "metadata": {},
   "outputs": [
    {
     "data": {
      "text/plain": [
       "2.737715366834285"
      ]
     },
     "execution_count": 88,
     "metadata": {},
     "output_type": "execute_result"
    }
   ],
   "source": [
    "mae/mean * 100"
   ]
  },
  {
   "cell_type": "markdown",
   "metadata": {},
   "source": [
    "We can conclude that MEA loss function have better performance since mea/mean is less than rmse/mean."
   ]
  },
  {
   "cell_type": "code",
   "execution_count": null,
   "metadata": {},
   "outputs": [],
   "source": []
  },
  {
   "cell_type": "code",
   "execution_count": null,
   "metadata": {},
   "outputs": [],
   "source": []
  }
 ],
 "metadata": {
  "celltoolbar": "Attachments",
  "kernelspec": {
   "display_name": "Python 3",
   "language": "python",
   "name": "python3"
  },
  "language_info": {
   "codemirror_mode": {
    "name": "ipython",
    "version": 3
   },
   "file_extension": ".py",
   "mimetype": "text/x-python",
   "name": "python",
   "nbconvert_exporter": "python",
   "pygments_lexer": "ipython3",
   "version": "3.7.3"
  }
 },
 "nbformat": 4,
 "nbformat_minor": 1
}
